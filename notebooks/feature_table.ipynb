{
 "cells": [
  {
   "cell_type": "markdown",
   "id": "9361a6e4-2ab3-4eb3-8218-0ab398e6ba6d",
   "metadata": {},
   "source": [
    "# Feature Table Exploration"
   ]
  },
  {
   "cell_type": "code",
   "execution_count": 1,
   "id": "407d17a5-5ac5-41fe-80c6-52ab259162f8",
   "metadata": {},
   "outputs": [],
   "source": [
    "import os\n",
    "\n",
    "import snowflake.connector\n",
    "import yaml"
   ]
  },
  {
   "cell_type": "code",
   "execution_count": 2,
   "id": "d36fe615-6842-4bc6-baaa-d78206492431",
   "metadata": {},
   "outputs": [],
   "source": [
    "model_name = \"user_profile\""
   ]
  },
  {
   "cell_type": "code",
   "execution_count": 3,
   "id": "1b879c6a-8b43-409a-9771-7b7ce4d7943d",
   "metadata": {},
   "outputs": [],
   "source": [
    "with open(\"../pb_project.yaml\", \"r\") as f:\n",
    "    connection_name = yaml.load(f, Loader=yaml.FullLoader).get(\"connection\")\n",
    "\n",
    "with open(f\"{os.path.expanduser('~')}/.pb/siteconfig.yaml\") as f:\n",
    "    creds = yaml.load(f, Loader=yaml.FullLoader)[\"connections\"][connection_name][\"outputs\"][\"dev\"]\n",
    "\n",
    "ctx = snowflake.connector.connect(\n",
    "    user=creds[\"user\"],\n",
    "    password=creds[\"password\"],\n",
    "    account=creds[\"account\"],\n",
    "    warehouse=creds[\"warehouse\"],\n",
    "    database=creds[\"dbname\"],\n",
    "    schema=creds[\"schema\"]\n",
    ")\n",
    "cur = ctx.cursor()\n",
    "sql = f\"SELECT * FROM {creds['dbname']}.{creds['schema']}.{model_name}\"\n",
    "cur.execute(sql)\n",
    "feature_table = cur.fetch_pandas_all()"
   ]
  },
  {
   "cell_type": "code",
   "execution_count": 4,
   "id": "c410006f-9bee-4bb8-b368-7ba81970e891",
   "metadata": {},
   "outputs": [
    {
     "name": "stdout",
     "output_type": "stream",
     "text": [
      "<class 'pandas.core.frame.DataFrame'>\n",
      "RangeIndex: 147 entries, 0 to 146\n",
      "Data columns (total 4 columns):\n",
      " #   Column         Non-Null Count  Dtype         \n",
      "---  ------         --------------  -----         \n",
      " 0   USER_MAIN_ID   147 non-null    object        \n",
      " 1   VALID_AT       147 non-null    datetime64[ns]\n",
      " 2   USER_LIFESPAN  147 non-null    int8          \n",
      " 3   DAYS_ACTIVE    147 non-null    int8          \n",
      "dtypes: datetime64[ns](1), int8(2), object(1)\n",
      "memory usage: 2.7+ KB\n"
     ]
    }
   ],
   "source": [
    "feature_table.info()"
   ]
  },
  {
   "cell_type": "code",
   "execution_count": 5,
   "id": "b374029a-3351-4b9e-be13-e8a6f3651600",
   "metadata": {},
   "outputs": [
    {
     "data": {
      "text/html": [
       "<div>\n",
       "<style scoped>\n",
       "    .dataframe tbody tr th:only-of-type {\n",
       "        vertical-align: middle;\n",
       "    }\n",
       "\n",
       "    .dataframe tbody tr th {\n",
       "        vertical-align: top;\n",
       "    }\n",
       "\n",
       "    .dataframe thead th {\n",
       "        text-align: right;\n",
       "    }\n",
       "</style>\n",
       "<table border=\"1\" class=\"dataframe\">\n",
       "  <thead>\n",
       "    <tr style=\"text-align: right;\">\n",
       "      <th></th>\n",
       "      <th>USER_MAIN_ID</th>\n",
       "      <th>VALID_AT</th>\n",
       "      <th>USER_LIFESPAN</th>\n",
       "      <th>DAYS_ACTIVE</th>\n",
       "    </tr>\n",
       "  </thead>\n",
       "  <tbody>\n",
       "    <tr>\n",
       "      <th>0</th>\n",
       "      <td>rid9e6998173ae3f2a421c43d5cb9246638</td>\n",
       "      <td>2024-03-14 01:26:38.806388</td>\n",
       "      <td>0</td>\n",
       "      <td>1</td>\n",
       "    </tr>\n",
       "    <tr>\n",
       "      <th>1</th>\n",
       "      <td>ridda78f13cc059857d4a7b3926ee23864b</td>\n",
       "      <td>2024-03-14 01:26:38.806388</td>\n",
       "      <td>0</td>\n",
       "      <td>1</td>\n",
       "    </tr>\n",
       "    <tr>\n",
       "      <th>2</th>\n",
       "      <td>rid5c32c5a1355e43b4760318dfa7fa840a</td>\n",
       "      <td>2024-03-14 01:26:38.806388</td>\n",
       "      <td>0</td>\n",
       "      <td>1</td>\n",
       "    </tr>\n",
       "    <tr>\n",
       "      <th>3</th>\n",
       "      <td>rid0b747f0f37377e61c59f7b24801e336b</td>\n",
       "      <td>2024-03-14 01:26:38.806388</td>\n",
       "      <td>0</td>\n",
       "      <td>1</td>\n",
       "    </tr>\n",
       "    <tr>\n",
       "      <th>4</th>\n",
       "      <td>rid3df8bda9dddd86a68bbf53cd978030ee</td>\n",
       "      <td>2024-03-14 01:26:38.806388</td>\n",
       "      <td>0</td>\n",
       "      <td>1</td>\n",
       "    </tr>\n",
       "  </tbody>\n",
       "</table>\n",
       "</div>"
      ],
      "text/plain": [
       "                          USER_MAIN_ID                   VALID_AT  \\\n",
       "0  rid9e6998173ae3f2a421c43d5cb9246638 2024-03-14 01:26:38.806388   \n",
       "1  ridda78f13cc059857d4a7b3926ee23864b 2024-03-14 01:26:38.806388   \n",
       "2  rid5c32c5a1355e43b4760318dfa7fa840a 2024-03-14 01:26:38.806388   \n",
       "3  rid0b747f0f37377e61c59f7b24801e336b 2024-03-14 01:26:38.806388   \n",
       "4  rid3df8bda9dddd86a68bbf53cd978030ee 2024-03-14 01:26:38.806388   \n",
       "\n",
       "   USER_LIFESPAN  DAYS_ACTIVE  \n",
       "0              0            1  \n",
       "1              0            1  \n",
       "2              0            1  \n",
       "3              0            1  \n",
       "4              0            1  "
      ]
     },
     "execution_count": 5,
     "metadata": {},
     "output_type": "execute_result"
    }
   ],
   "source": [
    "feature_table.head()"
   ]
  },
  {
   "cell_type": "code",
   "execution_count": 6,
   "id": "5c3178c2-2aea-4463-8ad1-615c6bac0a65",
   "metadata": {},
   "outputs": [
    {
     "data": {
      "text/html": [
       "<div>\n",
       "<style scoped>\n",
       "    .dataframe tbody tr th:only-of-type {\n",
       "        vertical-align: middle;\n",
       "    }\n",
       "\n",
       "    .dataframe tbody tr th {\n",
       "        vertical-align: top;\n",
       "    }\n",
       "\n",
       "    .dataframe thead th {\n",
       "        text-align: right;\n",
       "    }\n",
       "</style>\n",
       "<table border=\"1\" class=\"dataframe\">\n",
       "  <thead>\n",
       "    <tr style=\"text-align: right;\">\n",
       "      <th></th>\n",
       "      <th>VALID_AT</th>\n",
       "      <th>USER_LIFESPAN</th>\n",
       "      <th>DAYS_ACTIVE</th>\n",
       "    </tr>\n",
       "  </thead>\n",
       "  <tbody>\n",
       "    <tr>\n",
       "      <th>count</th>\n",
       "      <td>147</td>\n",
       "      <td>147.0</td>\n",
       "      <td>147.0</td>\n",
       "    </tr>\n",
       "    <tr>\n",
       "      <th>mean</th>\n",
       "      <td>2024-03-14 01:26:38.806388224</td>\n",
       "      <td>0.0</td>\n",
       "      <td>1.0</td>\n",
       "    </tr>\n",
       "    <tr>\n",
       "      <th>min</th>\n",
       "      <td>2024-03-14 01:26:38.806388</td>\n",
       "      <td>0.0</td>\n",
       "      <td>1.0</td>\n",
       "    </tr>\n",
       "    <tr>\n",
       "      <th>25%</th>\n",
       "      <td>2024-03-14 01:26:38.806387968</td>\n",
       "      <td>0.0</td>\n",
       "      <td>1.0</td>\n",
       "    </tr>\n",
       "    <tr>\n",
       "      <th>50%</th>\n",
       "      <td>2024-03-14 01:26:38.806387968</td>\n",
       "      <td>0.0</td>\n",
       "      <td>1.0</td>\n",
       "    </tr>\n",
       "    <tr>\n",
       "      <th>75%</th>\n",
       "      <td>2024-03-14 01:26:38.806387968</td>\n",
       "      <td>0.0</td>\n",
       "      <td>1.0</td>\n",
       "    </tr>\n",
       "    <tr>\n",
       "      <th>max</th>\n",
       "      <td>2024-03-14 01:26:38.806388</td>\n",
       "      <td>0.0</td>\n",
       "      <td>1.0</td>\n",
       "    </tr>\n",
       "    <tr>\n",
       "      <th>std</th>\n",
       "      <td>NaN</td>\n",
       "      <td>0.0</td>\n",
       "      <td>0.0</td>\n",
       "    </tr>\n",
       "  </tbody>\n",
       "</table>\n",
       "</div>"
      ],
      "text/plain": [
       "                            VALID_AT  USER_LIFESPAN  DAYS_ACTIVE\n",
       "count                            147          147.0        147.0\n",
       "mean   2024-03-14 01:26:38.806388224            0.0          1.0\n",
       "min       2024-03-14 01:26:38.806388            0.0          1.0\n",
       "25%    2024-03-14 01:26:38.806387968            0.0          1.0\n",
       "50%    2024-03-14 01:26:38.806387968            0.0          1.0\n",
       "75%    2024-03-14 01:26:38.806387968            0.0          1.0\n",
       "max       2024-03-14 01:26:38.806388            0.0          1.0\n",
       "std                              NaN            0.0          0.0"
      ]
     },
     "execution_count": 6,
     "metadata": {},
     "output_type": "execute_result"
    }
   ],
   "source": [
    "feature_table.describe()"
   ]
  },
  {
   "cell_type": "code",
   "execution_count": 7,
   "id": "aa2c4898-892d-4c5a-9b24-4714ee8abac1",
   "metadata": {},
   "outputs": [
    {
     "data": {
      "text/html": [
       "<div>\n",
       "<style scoped>\n",
       "    .dataframe tbody tr th:only-of-type {\n",
       "        vertical-align: middle;\n",
       "    }\n",
       "\n",
       "    .dataframe tbody tr th {\n",
       "        vertical-align: top;\n",
       "    }\n",
       "\n",
       "    .dataframe thead th {\n",
       "        text-align: right;\n",
       "    }\n",
       "</style>\n",
       "<table border=\"1\" class=\"dataframe\">\n",
       "  <thead>\n",
       "    <tr style=\"text-align: right;\">\n",
       "      <th></th>\n",
       "      <th>USER_MAIN_ID</th>\n",
       "    </tr>\n",
       "  </thead>\n",
       "  <tbody>\n",
       "    <tr>\n",
       "      <th>count</th>\n",
       "      <td>147</td>\n",
       "    </tr>\n",
       "    <tr>\n",
       "      <th>unique</th>\n",
       "      <td>147</td>\n",
       "    </tr>\n",
       "    <tr>\n",
       "      <th>top</th>\n",
       "      <td>rid9e6998173ae3f2a421c43d5cb9246638</td>\n",
       "    </tr>\n",
       "    <tr>\n",
       "      <th>freq</th>\n",
       "      <td>1</td>\n",
       "    </tr>\n",
       "  </tbody>\n",
       "</table>\n",
       "</div>"
      ],
      "text/plain": [
       "                               USER_MAIN_ID\n",
       "count                                   147\n",
       "unique                                  147\n",
       "top     rid9e6998173ae3f2a421c43d5cb9246638\n",
       "freq                                      1"
      ]
     },
     "execution_count": 7,
     "metadata": {},
     "output_type": "execute_result"
    }
   ],
   "source": [
    "feature_table.describe(include=object)"
   ]
  }
 ],
 "metadata": {
  "kernelspec": {
   "display_name": "Python 3 (ipykernel)",
   "language": "python",
   "name": "python3"
  },
  "language_info": {
   "codemirror_mode": {
    "name": "ipython",
    "version": 3
   },
   "file_extension": ".py",
   "mimetype": "text/x-python",
   "name": "python",
   "nbconvert_exporter": "python",
   "pygments_lexer": "ipython3",
   "version": "3.11.8"
  }
 },
 "nbformat": 4,
 "nbformat_minor": 5
}
