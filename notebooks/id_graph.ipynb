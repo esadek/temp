{
 "cells": [
  {
   "cell_type": "markdown",
   "id": "0da08ea9-2a3b-4683-8434-51ead8ae9a99",
   "metadata": {},
   "source": [
    "# ID Graph Exploration"
   ]
  },
  {
   "cell_type": "code",
   "execution_count": 1,
   "id": "c42c1cc2-db8d-4c70-bcab-20efef2fc8e2",
   "metadata": {},
   "outputs": [],
   "source": [
    "import json\n",
    "import os\n",
    "import pprint\n",
    "\n",
    "from jinja2 import Template\n",
    "import matplotlib.pyplot as plt\n",
    "import networkx as nx\n",
    "import pandas as pd\n",
    "import seaborn as sns\n",
    "import snowflake.connector\n",
    "import yaml"
   ]
  },
  {
   "cell_type": "code",
   "execution_count": 2,
   "id": "5b8be9cf-9d22-4ee4-a645-8ca55813b8f5",
   "metadata": {},
   "outputs": [],
   "source": [
    "# ID stitcher model name\n",
    "model_name = \"user_id_stitcher\""
   ]
  },
  {
   "cell_type": "code",
   "execution_count": 3,
   "id": "868e0ded-88bd-4ac1-bb0e-ee22b622ca61",
   "metadata": {},
   "outputs": [],
   "source": [
    "# Retrieve connection name from pb_project.yaml\n",
    "with open(\"../pb_project.yaml\", \"r\") as f:\n",
    "    connection_name = yaml.load(f, Loader=yaml.FullLoader).get(\"connection\")\n",
    "\n",
    "# Retrieve connection credentials from ~/.pb/siteconfig.yaml\n",
    "with open(f\"{os.path.expanduser('~')}/.pb/siteconfig.yaml\") as f:\n",
    "    creds = yaml.load(f, Loader=yaml.FullLoader)[\"connections\"][connection_name][\"outputs\"][\"dev\"]\n",
    "\n",
    "# Create Snowflake connection and cursor\n",
    "ctx = snowflake.connector.connect(\n",
    "    user=creds[\"user\"],\n",
    "    password=creds[\"password\"],\n",
    "    account=creds[\"account\"],\n",
    "    warehouse=creds[\"warehouse\"],\n",
    "    database=creds[\"dbname\"],\n",
    "    schema=creds[\"schema\"]\n",
    ")\n",
    "cur = ctx.cursor()"
   ]
  },
  {
   "cell_type": "code",
   "execution_count": 4,
   "id": "e17849fa-57bf-48aa-824a-801943ef9117",
   "metadata": {},
   "outputs": [
    {
     "data": {
      "text/html": [
       "<div>\n",
       "<style scoped>\n",
       "    .dataframe tbody tr th:only-of-type {\n",
       "        vertical-align: middle;\n",
       "    }\n",
       "\n",
       "    .dataframe tbody tr th {\n",
       "        vertical-align: top;\n",
       "    }\n",
       "\n",
       "    .dataframe thead th {\n",
       "        text-align: right;\n",
       "    }\n",
       "</style>\n",
       "<table border=\"1\" class=\"dataframe\">\n",
       "  <thead>\n",
       "    <tr style=\"text-align: right;\">\n",
       "      <th></th>\n",
       "      <th>USER_MAIN_ID</th>\n",
       "      <th>OTHER_ID</th>\n",
       "      <th>OTHER_ID_TYPE</th>\n",
       "      <th>VALID_AT</th>\n",
       "      <th>FIRST_SEEN_AT</th>\n",
       "    </tr>\n",
       "  </thead>\n",
       "  <tbody>\n",
       "    <tr>\n",
       "      <th>0</th>\n",
       "      <td>rid9e6998173ae3f2a421c43d5cb9246638</td>\n",
       "      <td>deliabednar@junior-girlfriend.com</td>\n",
       "      <td>email</td>\n",
       "      <td>2024-03-09 13:56:51.141</td>\n",
       "      <td>2024-03-09 13:56:51.141</td>\n",
       "    </tr>\n",
       "    <tr>\n",
       "      <th>1</th>\n",
       "      <td>ridda78f13cc059857d4a7b3926ee23864b</td>\n",
       "      <td>69b5d69d-c64a-4a7a-b476-e837f9ea3761</td>\n",
       "      <td>anonymous_id</td>\n",
       "      <td>2024-03-09 13:57:23.400</td>\n",
       "      <td>2024-03-09 13:57:23.400</td>\n",
       "    </tr>\n",
       "    <tr>\n",
       "      <th>2</th>\n",
       "      <td>rid5c32c5a1355e43b4760318dfa7fa840a</td>\n",
       "      <td>e6c1f19b-6a95-46e4-ae4c-a6aeaf8c030c</td>\n",
       "      <td>anonymous_id</td>\n",
       "      <td>2024-03-09 13:56:49.172</td>\n",
       "      <td>2024-03-09 13:56:49.172</td>\n",
       "    </tr>\n",
       "    <tr>\n",
       "      <th>3</th>\n",
       "      <td>rid0b747f0f37377e61c59f7b24801e336b</td>\n",
       "      <td>482d17b6-dc36-4cb9-b2c5-8a15f2f32d0a</td>\n",
       "      <td>anonymous_id</td>\n",
       "      <td>2024-03-09 13:57:06.291</td>\n",
       "      <td>2024-03-09 13:57:06.291</td>\n",
       "    </tr>\n",
       "    <tr>\n",
       "      <th>4</th>\n",
       "      <td>rid3df8bda9dddd86a68bbf53cd978030ee</td>\n",
       "      <td>4043bbb1-7f35-406c-b5e6-12a6c4036c3f</td>\n",
       "      <td>anonymous_id</td>\n",
       "      <td>2024-03-09 13:57:01.232</td>\n",
       "      <td>2024-03-09 13:57:01.232</td>\n",
       "    </tr>\n",
       "  </tbody>\n",
       "</table>\n",
       "</div>"
      ],
      "text/plain": [
       "                          USER_MAIN_ID                              OTHER_ID  \\\n",
       "0  rid9e6998173ae3f2a421c43d5cb9246638     deliabednar@junior-girlfriend.com   \n",
       "1  ridda78f13cc059857d4a7b3926ee23864b  69b5d69d-c64a-4a7a-b476-e837f9ea3761   \n",
       "2  rid5c32c5a1355e43b4760318dfa7fa840a  e6c1f19b-6a95-46e4-ae4c-a6aeaf8c030c   \n",
       "3  rid0b747f0f37377e61c59f7b24801e336b  482d17b6-dc36-4cb9-b2c5-8a15f2f32d0a   \n",
       "4  rid3df8bda9dddd86a68bbf53cd978030ee  4043bbb1-7f35-406c-b5e6-12a6c4036c3f   \n",
       "\n",
       "  OTHER_ID_TYPE                VALID_AT           FIRST_SEEN_AT  \n",
       "0         email 2024-03-09 13:56:51.141 2024-03-09 13:56:51.141  \n",
       "1  anonymous_id 2024-03-09 13:57:23.400 2024-03-09 13:57:23.400  \n",
       "2  anonymous_id 2024-03-09 13:56:49.172 2024-03-09 13:56:49.172  \n",
       "3  anonymous_id 2024-03-09 13:57:06.291 2024-03-09 13:57:06.291  \n",
       "4  anonymous_id 2024-03-09 13:57:01.232 2024-03-09 13:57:01.232  "
      ]
     },
     "execution_count": 4,
     "metadata": {},
     "output_type": "execute_result"
    }
   ],
   "source": [
    "# Retrieve ID graph from Snowflake and load it into a pandas DataFrame\n",
    "sql = f\"SELECT * FROM {creds['dbname']}.{creds['schema']}.{model_name}\"\n",
    "id_graph = cur.execute(sql).fetch_pandas_all()\n",
    "\n",
    "# Preview the first five rows\n",
    "id_graph.head()"
   ]
  },
  {
   "cell_type": "code",
   "execution_count": 5,
   "id": "a8f4dadd-109c-4721-8700-18a93a60b8ad",
   "metadata": {},
   "outputs": [
    {
     "name": "stdout",
     "output_type": "stream",
     "text": [
      "<class 'pandas.core.frame.DataFrame'>\n",
      "RangeIndex: 265 entries, 0 to 264\n",
      "Data columns (total 5 columns):\n",
      " #   Column         Non-Null Count  Dtype         \n",
      "---  ------         --------------  -----         \n",
      " 0   USER_MAIN_ID   265 non-null    object        \n",
      " 1   OTHER_ID       265 non-null    object        \n",
      " 2   OTHER_ID_TYPE  265 non-null    object        \n",
      " 3   VALID_AT       265 non-null    datetime64[ns]\n",
      " 4   FIRST_SEEN_AT  265 non-null    datetime64[ns]\n",
      "dtypes: datetime64[ns](2), object(3)\n",
      "memory usage: 10.5+ KB\n"
     ]
    }
   ],
   "source": [
    "# DataFrame informaiton\n",
    "id_graph.info()"
   ]
  },
  {
   "cell_type": "code",
   "execution_count": 6,
   "id": "88b3b292-fccc-45d7-92e8-1d9557554988",
   "metadata": {},
   "outputs": [
    {
     "data": {
      "text/html": [
       "<div>\n",
       "<style scoped>\n",
       "    .dataframe tbody tr th:only-of-type {\n",
       "        vertical-align: middle;\n",
       "    }\n",
       "\n",
       "    .dataframe tbody tr th {\n",
       "        vertical-align: top;\n",
       "    }\n",
       "\n",
       "    .dataframe thead th {\n",
       "        text-align: right;\n",
       "    }\n",
       "</style>\n",
       "<table border=\"1\" class=\"dataframe\">\n",
       "  <thead>\n",
       "    <tr style=\"text-align: right;\">\n",
       "      <th></th>\n",
       "      <th>VALID_AT</th>\n",
       "      <th>FIRST_SEEN_AT</th>\n",
       "    </tr>\n",
       "  </thead>\n",
       "  <tbody>\n",
       "    <tr>\n",
       "      <th>count</th>\n",
       "      <td>265</td>\n",
       "      <td>265</td>\n",
       "    </tr>\n",
       "    <tr>\n",
       "      <th>mean</th>\n",
       "      <td>2024-03-09 15:55:55.359780864</td>\n",
       "      <td>2024-03-09 15:55:55.357886720</td>\n",
       "    </tr>\n",
       "    <tr>\n",
       "      <th>min</th>\n",
       "      <td>2024-03-09 13:54:48.123000</td>\n",
       "      <td>2024-03-09 13:54:48.123000</td>\n",
       "    </tr>\n",
       "    <tr>\n",
       "      <th>25%</th>\n",
       "      <td>2024-03-09 13:56:48.971000064</td>\n",
       "      <td>2024-03-09 13:56:48.971000064</td>\n",
       "    </tr>\n",
       "    <tr>\n",
       "      <th>50%</th>\n",
       "      <td>2024-03-09 13:57:01.032000</td>\n",
       "      <td>2024-03-09 13:57:01.032000</td>\n",
       "    </tr>\n",
       "    <tr>\n",
       "      <th>75%</th>\n",
       "      <td>2024-03-09 13:57:08.920000</td>\n",
       "      <td>2024-03-09 13:57:08.920000</td>\n",
       "    </tr>\n",
       "    <tr>\n",
       "      <th>max</th>\n",
       "      <td>2024-03-13 23:15:15.793000</td>\n",
       "      <td>2024-03-13 23:15:15.793000</td>\n",
       "    </tr>\n",
       "  </tbody>\n",
       "</table>\n",
       "</div>"
      ],
      "text/plain": [
       "                            VALID_AT                  FIRST_SEEN_AT\n",
       "count                            265                            265\n",
       "mean   2024-03-09 15:55:55.359780864  2024-03-09 15:55:55.357886720\n",
       "min       2024-03-09 13:54:48.123000     2024-03-09 13:54:48.123000\n",
       "25%    2024-03-09 13:56:48.971000064  2024-03-09 13:56:48.971000064\n",
       "50%       2024-03-09 13:57:01.032000     2024-03-09 13:57:01.032000\n",
       "75%       2024-03-09 13:57:08.920000     2024-03-09 13:57:08.920000\n",
       "max       2024-03-13 23:15:15.793000     2024-03-13 23:15:15.793000"
      ]
     },
     "execution_count": 6,
     "metadata": {},
     "output_type": "execute_result"
    }
   ],
   "source": [
    "# Descriptive statistics for numeric columns\n",
    "id_graph.describe()"
   ]
  },
  {
   "cell_type": "code",
   "execution_count": 7,
   "id": "ad302a91-b977-4d39-866f-fd39f3d44aa5",
   "metadata": {},
   "outputs": [
    {
     "data": {
      "text/html": [
       "<div>\n",
       "<style scoped>\n",
       "    .dataframe tbody tr th:only-of-type {\n",
       "        vertical-align: middle;\n",
       "    }\n",
       "\n",
       "    .dataframe tbody tr th {\n",
       "        vertical-align: top;\n",
       "    }\n",
       "\n",
       "    .dataframe thead th {\n",
       "        text-align: right;\n",
       "    }\n",
       "</style>\n",
       "<table border=\"1\" class=\"dataframe\">\n",
       "  <thead>\n",
       "    <tr style=\"text-align: right;\">\n",
       "      <th></th>\n",
       "      <th>USER_MAIN_ID</th>\n",
       "      <th>OTHER_ID</th>\n",
       "      <th>OTHER_ID_TYPE</th>\n",
       "    </tr>\n",
       "  </thead>\n",
       "  <tbody>\n",
       "    <tr>\n",
       "      <th>count</th>\n",
       "      <td>265</td>\n",
       "      <td>265</td>\n",
       "      <td>265</td>\n",
       "    </tr>\n",
       "    <tr>\n",
       "      <th>unique</th>\n",
       "      <td>147</td>\n",
       "      <td>265</td>\n",
       "      <td>4</td>\n",
       "    </tr>\n",
       "    <tr>\n",
       "      <th>top</th>\n",
       "      <td>ridfe6f4d95aa306184d6462db1d7f5d57c</td>\n",
       "      <td>deliabednar@junior-girlfriend.com</td>\n",
       "      <td>anonymous_id</td>\n",
       "    </tr>\n",
       "    <tr>\n",
       "      <th>freq</th>\n",
       "      <td>5</td>\n",
       "      <td>1</td>\n",
       "      <td>148</td>\n",
       "    </tr>\n",
       "  </tbody>\n",
       "</table>\n",
       "</div>"
      ],
      "text/plain": [
       "                               USER_MAIN_ID  \\\n",
       "count                                   265   \n",
       "unique                                  147   \n",
       "top     ridfe6f4d95aa306184d6462db1d7f5d57c   \n",
       "freq                                      5   \n",
       "\n",
       "                                 OTHER_ID OTHER_ID_TYPE  \n",
       "count                                 265           265  \n",
       "unique                                265             4  \n",
       "top     deliabednar@junior-girlfriend.com  anonymous_id  \n",
       "freq                                    1           148  "
      ]
     },
     "execution_count": 7,
     "metadata": {},
     "output_type": "execute_result"
    }
   ],
   "source": [
    "# Descriptive statistics for non-numeric columns\n",
    "id_graph.describe(include=object)"
   ]
  },
  {
   "cell_type": "code",
   "execution_count": 8,
   "id": "ccab9ff4-d3a5-4457-a98b-a1591c7c2656",
   "metadata": {},
   "outputs": [
    {
     "name": "stdout",
     "output_type": "stream",
     "text": [
      "Profile count:             147\n",
      "ID count:                  265\n",
      "Average ID count/profile:  1.80\n",
      "Maximum ID count/profile:  5\n"
     ]
    }
   ],
   "source": [
    "# Main ID column name and main ID series\n",
    "rudder_id = id_graph.columns[0]\n",
    "main_ids = id_graph[rudder_id]\n",
    "\n",
    "# ID metrics\n",
    "print(\"Profile count:            \", len(main_ids.unique()))\n",
    "print(\"ID count:                 \", len(id_graph[\"OTHER_ID\"].unique()))\n",
    "print(\"Average ID count/profile: \", \"{:.2f}\".format(id_graph.groupby(rudder_id)[\"OTHER_ID\"].count().mean()))\n",
    "print(\"Maximum ID count/profile: \", main_ids.value_counts().max())"
   ]
  },
  {
   "cell_type": "code",
   "execution_count": 9,
   "id": "c10b0edb-9ccf-401b-9ba6-1c25e3c81413",
   "metadata": {},
   "outputs": [
    {
     "data": {
      "text/plain": [
       "OTHER_ID_TYPE\n",
       "anonymous_id    148\n",
       "email            39\n",
       "phone            39\n",
       "user_id          39\n",
       "Name: count, dtype: int64"
      ]
     },
     "execution_count": 9,
     "metadata": {},
     "output_type": "execute_result"
    }
   ],
   "source": [
    "# Frequency of each ID type\n",
    "id_graph[\"OTHER_ID_TYPE\"].value_counts()"
   ]
  },
  {
   "cell_type": "code",
   "execution_count": 10,
   "id": "ff4b9f14-7928-4045-a2f8-d0b6c0a906cb",
   "metadata": {},
   "outputs": [
    {
     "data": {
      "text/plain": [
       "<Axes: xlabel='count', ylabel='Count'>"
      ]
     },
     "execution_count": 10,
     "metadata": {},
     "output_type": "execute_result"
    },
    {
     "data": {
      "image/png": "[encoded data removed]",
      "text/plain": [
       "<Figure size 640x480 with 1 Axes>"
      ]
     },
     "metadata": {},
     "output_type": "display_data"
    }
   ],
   "source": [
    "# Visualize distribution of ID count per profile\n",
    "main_id_counts = main_ids.value_counts()\n",
    "sns.histplot(main_id_counts)"
   ]
  },
  {
   "cell_type": "code",
   "execution_count": 11,
   "id": "74c0ffab-7353-4187-841e-c20e95be18d5",
   "metadata": {},
   "outputs": [
    {
     "data": {
      "text/html": [
       "<div>\n",
       "<style scoped>\n",
       "    .dataframe tbody tr th:only-of-type {\n",
       "        vertical-align: middle;\n",
       "    }\n",
       "\n",
       "    .dataframe tbody tr th {\n",
       "        vertical-align: top;\n",
       "    }\n",
       "\n",
       "    .dataframe thead th {\n",
       "        text-align: right;\n",
       "    }\n",
       "</style>\n",
       "<table border=\"1\" class=\"dataframe\">\n",
       "  <thead>\n",
       "    <tr style=\"text-align: right;\">\n",
       "      <th></th>\n",
       "      <th>Profile Count</th>\n",
       "      <th>ID Count</th>\n",
       "    </tr>\n",
       "  </thead>\n",
       "  <tbody>\n",
       "    <tr>\n",
       "      <th>0</th>\n",
       "      <td>1</td>\n",
       "      <td>108</td>\n",
       "    </tr>\n",
       "    <tr>\n",
       "      <th>1</th>\n",
       "      <td>4</td>\n",
       "      <td>38</td>\n",
       "    </tr>\n",
       "    <tr>\n",
       "      <th>2</th>\n",
       "      <td>5</td>\n",
       "      <td>1</td>\n",
       "    </tr>\n",
       "  </tbody>\n",
       "</table>\n",
       "</div>"
      ],
      "text/plain": [
       "   Profile Count  ID Count\n",
       "0              1       108\n",
       "1              4        38\n",
       "2              5         1"
      ]
     },
     "execution_count": 11,
     "metadata": {},
     "output_type": "execute_result"
    }
   ],
   "source": [
    "# Distribution of ID count per profile\n",
    "profiles_per_id_count = main_ids.value_counts().value_counts()\n",
    "pd.DataFrame({\"Profile Count\":profiles_per_id_count.index, \"ID Count\":profiles_per_id_count.values})"
   ]
  },
  {
   "cell_type": "code",
   "execution_count": 12,
   "id": "5192d146-c257-4645-b310-e25d5170905a",
   "metadata": {},
   "outputs": [
    {
     "data": {
      "text/plain": [
       "USER_MAIN_ID\n",
       "ridfe6f4d95aa306184d6462db1d7f5d57c    5\n",
       "rid9e6998173ae3f2a421c43d5cb9246638    4\n",
       "rid2f5508b9b92013fb78b81bfbd90ebeb1    4\n",
       "ridec001945cdca59f2f606c4479ee49b6f    4\n",
       "rid32c964b8202e852d0df47920b8a78762    4\n",
       "rid2b0b00603a0be60c70c22cf53461e076    4\n",
       "rid641e30cce8c36bc063605eed5c3fee4d    4\n",
       "rid0f4db0afa3a9a064321df4da8c82b3f0    4\n",
       "ridb11174fa0c128328d1054cdb4b96da7a    4\n",
       "rid3da3d3b7da212eb8392bea06e1d8a942    4\n",
       "Name: count, dtype: int64"
      ]
     },
     "execution_count": 12,
     "metadata": {},
     "output_type": "execute_result"
    }
   ],
   "source": [
    "# Ten profiles with most stitched IDs\n",
    "main_id_counts.nlargest(10)"
   ]
  },
  {
   "cell_type": "code",
   "execution_count": 13,
   "id": "8b7e8f6c-815b-47c1-b406-40b9dfa620e0",
   "metadata": {},
   "outputs": [
    {
     "data": {
      "text/html": [
       "<div>\n",
       "<style scoped>\n",
       "    .dataframe tbody tr th:only-of-type {\n",
       "        vertical-align: middle;\n",
       "    }\n",
       "\n",
       "    .dataframe tbody tr th {\n",
       "        vertical-align: top;\n",
       "    }\n",
       "\n",
       "    .dataframe thead th {\n",
       "        text-align: right;\n",
       "    }\n",
       "</style>\n",
       "<table border=\"1\" class=\"dataframe\">\n",
       "  <thead>\n",
       "    <tr style=\"text-align: right;\">\n",
       "      <th></th>\n",
       "      <th>USER_MAIN_ID</th>\n",
       "      <th>OTHER_ID</th>\n",
       "      <th>OTHER_ID_TYPE</th>\n",
       "      <th>VALID_AT</th>\n",
       "      <th>FIRST_SEEN_AT</th>\n",
       "    </tr>\n",
       "  </thead>\n",
       "  <tbody>\n",
       "    <tr>\n",
       "      <th>68</th>\n",
       "      <td>ridfe6f4d95aa306184d6462db1d7f5d57c</td>\n",
       "      <td>563fc39a-9d0a-49c1-b669-4650522970a3</td>\n",
       "      <td>anonymous_id</td>\n",
       "      <td>2024-03-13 23:15:15.792</td>\n",
       "      <td>2024-03-13 23:15:15.791</td>\n",
       "    </tr>\n",
       "    <tr>\n",
       "      <th>81</th>\n",
       "      <td>ridfe6f4d95aa306184d6462db1d7f5d57c</td>\n",
       "      <td>b5fe5115-84c5-493d-a91c-d25e55bfcdda</td>\n",
       "      <td>anonymous_id</td>\n",
       "      <td>2024-03-13 23:15:15.793</td>\n",
       "      <td>2024-03-13 23:15:15.793</td>\n",
       "    </tr>\n",
       "    <tr>\n",
       "      <th>83</th>\n",
       "      <td>ridfe6f4d95aa306184d6462db1d7f5d57c</td>\n",
       "      <td>521-710-4869</td>\n",
       "      <td>phone</td>\n",
       "      <td>2024-03-13 23:15:15.792</td>\n",
       "      <td>2024-03-13 23:15:15.792</td>\n",
       "    </tr>\n",
       "    <tr>\n",
       "      <th>142</th>\n",
       "      <td>ridfe6f4d95aa306184d6462db1d7f5d57c</td>\n",
       "      <td>hoytmacejkovic@those-mortise.com</td>\n",
       "      <td>email</td>\n",
       "      <td>2024-03-13 23:15:15.792</td>\n",
       "      <td>2024-03-13 23:15:15.792</td>\n",
       "    </tr>\n",
       "    <tr>\n",
       "      <th>196</th>\n",
       "      <td>ridfe6f4d95aa306184d6462db1d7f5d57c</td>\n",
       "      <td>b89902e2-e23d-45af-87f1-2664927ed77e</td>\n",
       "      <td>user_id</td>\n",
       "      <td>2024-03-13 23:15:15.792</td>\n",
       "      <td>2024-03-13 23:15:15.792</td>\n",
       "    </tr>\n",
       "  </tbody>\n",
       "</table>\n",
       "</div>"
      ],
      "text/plain": [
       "                            USER_MAIN_ID  \\\n",
       "68   ridfe6f4d95aa306184d6462db1d7f5d57c   \n",
       "81   ridfe6f4d95aa306184d6462db1d7f5d57c   \n",
       "83   ridfe6f4d95aa306184d6462db1d7f5d57c   \n",
       "142  ridfe6f4d95aa306184d6462db1d7f5d57c   \n",
       "196  ridfe6f4d95aa306184d6462db1d7f5d57c   \n",
       "\n",
       "                                 OTHER_ID OTHER_ID_TYPE  \\\n",
       "68   563fc39a-9d0a-49c1-b669-4650522970a3  anonymous_id   \n",
       "81   b5fe5115-84c5-493d-a91c-d25e55bfcdda  anonymous_id   \n",
       "83                           521-710-4869         phone   \n",
       "142      hoytmacejkovic@those-mortise.com         email   \n",
       "196  b89902e2-e23d-45af-87f1-2664927ed77e       user_id   \n",
       "\n",
       "                   VALID_AT           FIRST_SEEN_AT  \n",
       "68  2024-03-13 23:15:15.792 2024-03-13 23:15:15.791  \n",
       "81  2024-03-13 23:15:15.793 2024-03-13 23:15:15.793  \n",
       "83  2024-03-13 23:15:15.792 2024-03-13 23:15:15.792  \n",
       "142 2024-03-13 23:15:15.792 2024-03-13 23:15:15.792  \n",
       "196 2024-03-13 23:15:15.792 2024-03-13 23:15:15.792  "
      ]
     },
     "execution_count": 13,
     "metadata": {},
     "output_type": "execute_result"
    }
   ],
   "source": [
    "# Profile with most IDs\n",
    "most_frequent_main_id = main_ids.mode()[0]\n",
    "id_graph[id_graph[rudder_id] == most_frequent_main_id]"
   ]
  },
  {
   "cell_type": "code",
   "execution_count": 14,
   "id": "832efce3-afc7-4f7a-9bec-7c35c2c01d25",
   "metadata": {},
   "outputs": [
    {
     "data": {
      "image/png": "[encoded data removed]",
      "text/plain": [
       "<Figure size 640x480 with 1 Axes>"
      ]
     },
     "metadata": {},
     "output_type": "display_data"
    }
   ],
   "source": [
    "# Visualize ID graph for profile with most IDs\n",
    "G = nx.Graph()\n",
    "for index, row in id_graph[id_graph[rudder_id] == most_frequent_main_id].iterrows():\n",
    "    G.add_nodes_from([\n",
    "        (row[rudder_id], {\"type\": \"main_id\"}),\n",
    "        (row[\"OTHER_ID\"], {\"type\": row[\"OTHER_ID_TYPE\"]}),\n",
    "    ])\n",
    "    G.add_edge(row[rudder_id], row[\"OTHER_ID\"])\n",
    "\n",
    "plt.tight_layout()\n",
    "nx.draw(G, pos=nx.spring_layout(G), with_labels=True)"
   ]
  },
  {
   "cell_type": "code",
   "execution_count": 15,
   "id": "0225f29d-24a4-4256-b60c-d5b935bb8341",
   "metadata": {},
   "outputs": [
    {
     "data": {
      "text/html": [
       "<div>\n",
       "<style scoped>\n",
       "    .dataframe tbody tr th:only-of-type {\n",
       "        vertical-align: middle;\n",
       "    }\n",
       "\n",
       "    .dataframe tbody tr th {\n",
       "        vertical-align: top;\n",
       "    }\n",
       "\n",
       "    .dataframe thead th {\n",
       "        text-align: right;\n",
       "    }\n",
       "</style>\n",
       "<table border=\"1\" class=\"dataframe\">\n",
       "  <thead>\n",
       "    <tr style=\"text-align: right;\">\n",
       "      <th></th>\n",
       "      <th>MODEL_NAME</th>\n",
       "      <th>EDGES_TABLE</th>\n",
       "    </tr>\n",
       "  </thead>\n",
       "  <tbody>\n",
       "    <tr>\n",
       "      <th>0</th>\n",
       "      <td>material_user_id_stitcher_d13cdb3f_6</td>\n",
       "      <td>material_user_id_stitcher_d13cdb3f_6_internal_...</td>\n",
       "    </tr>\n",
       "  </tbody>\n",
       "</table>\n",
       "</div>"
      ],
      "text/plain": [
       "                             MODEL_NAME  \\\n",
       "0  material_user_id_stitcher_d13cdb3f_6   \n",
       "\n",
       "                                         EDGES_TABLE  \n",
       "0  material_user_id_stitcher_d13cdb3f_6_internal_...  "
      ]
     },
     "execution_count": 15,
     "metadata": {},
     "output_type": "execute_result"
    }
   ],
   "source": [
    "# Retrieve latest model name and edges table and load them into a pandas DataFrame\n",
    "sql = f\"\"\"\n",
    "select\n",
    "    'material_' || model_name || '_' || model_hash || '_' || seq_no  as model_name,\n",
    "    'material_' || model_name || '_' || model_hash || '_' || seq_no || '_internal_edges' as edges_table\n",
    "from {creds['dbname']}.{creds['schema']}.MATERIAL_REGISTRY_4\n",
    "where\n",
    "    model_type = 'id_stitcher'\n",
    "    and metadata:complete:status = 2\n",
    "qualify rank() over (partition by model_name order by end_ts desc) = 1\n",
    "limit 1;\n",
    "\"\"\"\n",
    "material_names = cur.execute(sql).fetch_pandas_all()\n",
    "\n",
    "# Preview data\n",
    "material_names.head()"
   ]
  },
  {
   "cell_type": "code",
   "execution_count": 16,
   "id": "d44b35f0-f255-4a6a-9832-cb5961c90fd4",
   "metadata": {},
   "outputs": [
    {
     "data": {
      "text/html": [
       "<div>\n",
       "<style scoped>\n",
       "    .dataframe tbody tr th:only-of-type {\n",
       "        vertical-align: middle;\n",
       "    }\n",
       "\n",
       "    .dataframe tbody tr th {\n",
       "        vertical-align: top;\n",
       "    }\n",
       "\n",
       "    .dataframe thead th {\n",
       "        text-align: right;\n",
       "    }\n",
       "</style>\n",
       "<table border=\"1\" class=\"dataframe\">\n",
       "  <thead>\n",
       "    <tr style=\"text-align: right;\">\n",
       "      <th></th>\n",
       "      <th>ID_TYPE</th>\n",
       "      <th>ID_VAL</th>\n",
       "      <th>ID_LIST</th>\n",
       "      <th>EMAIL_COUNT</th>\n",
       "      <th>ANONYMOUS_ID_COUNT</th>\n",
       "      <th>PHONE_COUNT</th>\n",
       "      <th>USER_ID_COUNT</th>\n",
       "      <th>TOTAL_COUNT</th>\n",
       "    </tr>\n",
       "  </thead>\n",
       "  <tbody>\n",
       "    <tr>\n",
       "      <th>0</th>\n",
       "      <td>user_id</td>\n",
       "      <td>b89902e2-e23d-45af-87f1-2664927ed77e</td>\n",
       "      <td>[\\n  {\\n    \"anonymous_id\": \"563fc39a-9d0a-49c...</td>\n",
       "      <td>1</td>\n",
       "      <td>2</td>\n",
       "      <td>1</td>\n",
       "      <td>0</td>\n",
       "      <td>4</td>\n",
       "    </tr>\n",
       "    <tr>\n",
       "      <th>1</th>\n",
       "      <td>anonymous_id</td>\n",
       "      <td>563fc39a-9d0a-49c1-b669-4650522970a3</td>\n",
       "      <td>[\\n  {\\n    \"user_id\": \"b89902e2-e23d-45af-87f...</td>\n",
       "      <td>1</td>\n",
       "      <td>0</td>\n",
       "      <td>1</td>\n",
       "      <td>1</td>\n",
       "      <td>3</td>\n",
       "    </tr>\n",
       "    <tr>\n",
       "      <th>2</th>\n",
       "      <td>phone</td>\n",
       "      <td>521-710-4869</td>\n",
       "      <td>[\\n  {\\n    \"user_id\": \"b89902e2-e23d-45af-87f...</td>\n",
       "      <td>1</td>\n",
       "      <td>1</td>\n",
       "      <td>0</td>\n",
       "      <td>1</td>\n",
       "      <td>3</td>\n",
       "    </tr>\n",
       "    <tr>\n",
       "      <th>3</th>\n",
       "      <td>email</td>\n",
       "      <td>hoytmacejkovic@those-mortise.com</td>\n",
       "      <td>[\\n  {\\n    \"user_id\": \"b89902e2-e23d-45af-87f...</td>\n",
       "      <td>0</td>\n",
       "      <td>1</td>\n",
       "      <td>1</td>\n",
       "      <td>1</td>\n",
       "      <td>3</td>\n",
       "    </tr>\n",
       "    <tr>\n",
       "      <th>4</th>\n",
       "      <td>anonymous_id</td>\n",
       "      <td>b5fe5115-84c5-493d-a91c-d25e55bfcdda</td>\n",
       "      <td>[\\n  {\\n    \"user_id\": \"b89902e2-e23d-45af-87f...</td>\n",
       "      <td>0</td>\n",
       "      <td>0</td>\n",
       "      <td>0</td>\n",
       "      <td>1</td>\n",
       "      <td>1</td>\n",
       "    </tr>\n",
       "  </tbody>\n",
       "</table>\n",
       "</div>"
      ],
      "text/plain": [
       "        ID_TYPE                                ID_VAL  \\\n",
       "0       user_id  b89902e2-e23d-45af-87f1-2664927ed77e   \n",
       "1  anonymous_id  563fc39a-9d0a-49c1-b669-4650522970a3   \n",
       "2         phone                          521-710-4869   \n",
       "3         email      hoytmacejkovic@those-mortise.com   \n",
       "4  anonymous_id  b5fe5115-84c5-493d-a91c-d25e55bfcdda   \n",
       "\n",
       "                                             ID_LIST  EMAIL_COUNT  \\\n",
       "0  [\\n  {\\n    \"anonymous_id\": \"563fc39a-9d0a-49c...            1   \n",
       "1  [\\n  {\\n    \"user_id\": \"b89902e2-e23d-45af-87f...            1   \n",
       "2  [\\n  {\\n    \"user_id\": \"b89902e2-e23d-45af-87f...            1   \n",
       "3  [\\n  {\\n    \"user_id\": \"b89902e2-e23d-45af-87f...            0   \n",
       "4  [\\n  {\\n    \"user_id\": \"b89902e2-e23d-45af-87f...            0   \n",
       "\n",
       "   ANONYMOUS_ID_COUNT  PHONE_COUNT  USER_ID_COUNT  TOTAL_COUNT  \n",
       "0                   2            1              0            4  \n",
       "1                   0            1              1            3  \n",
       "2                   1            0              1            3  \n",
       "3                   1            1              1            3  \n",
       "4                   0            0              1            1  "
      ]
     },
     "execution_count": 16,
     "metadata": {},
     "output_type": "execute_result"
    }
   ],
   "source": [
    "# Retrieve stitched IDs from edges table and load them into a pandas DataFrame\n",
    "sql_template = \"\"\"\n",
    "WITH cte_idg AS (\n",
    "    {% for _ in range(2) -%}\n",
    "    SELECT\n",
    "        id{{ loop.index }} AS id_val,\n",
    "        id{{ loop.index }}_type AS id_type,\n",
    "        id{{ 3 - loop.index }} AS id_other,\n",
    "        id{{ 3 - loop.index }}_type AS other_id_type,\n",
    "        {{ rudder_id }}\n",
    "    FROM {{ edges_table }}\n",
    "    WHERE\n",
    "        id1 <> id2\n",
    "        AND id{{ loop.index }} || id{{ loop.index }}_type IN (\n",
    "            SELECT OTHER_ID || other_id_type\n",
    "            FROM {{ model_name }}\n",
    "            WHERE {{ rudder_id }} = '{{ entity_main_id }}'\n",
    "        )\n",
    "    {% if not loop.last -%}\n",
    "    UNION ALL\n",
    "    {% endif %}\n",
    "    {%- endfor %}\n",
    ")\n",
    "\n",
    "SELECT\n",
    "    id_type,\n",
    "    id_val,\n",
    "    ARRAY_AGG(OBJECT_CONSTRUCT(other_id_type, id_other)) AS id_list,\n",
    "    {%- for id_type in id_types %}\n",
    "    SUM(${{ loop.index + 4 }}) AS {{ id_type }}_count,\n",
    "    {%- endfor %}\n",
    "    {% for id_type in id_types -%}\n",
    "    SUM(${{ loop.index + 4 }})\n",
    "    {%- if not loop.last %} + {% endif %}\n",
    "    {%- endfor %} AS total_count\n",
    "FROM (\n",
    "    SELECT\n",
    "        id_val,\n",
    "        id_type,\n",
    "        id_other,\n",
    "        other_id_type,\n",
    "        {%- for id_type in id_types %}\n",
    "        CASE WHEN other_id_type = '{{ id_type }}' THEN 1 ELSE 0 END AS {{ id_type }}\n",
    "        {%- if not loop.last -%}\n",
    "        , \n",
    "        {%- endif -%}\n",
    "        {%- endfor %}\n",
    "    FROM cte_idg\n",
    ")\n",
    "GROUP BY 1, 2\n",
    "ORDER BY total_count DESC;\n",
    "\"\"\"\n",
    "sql = Template(sql_template).render(\n",
    "    id_types=list(id_graph[\"OTHER_ID_TYPE\"].unique()),\n",
    "    model_name=material_names[\"MODEL_NAME\"][0],\n",
    "    edges_table=material_names[\"EDGES_TABLE\"][0],\n",
    "    rudder_id=rudder_id,\n",
    "    entity_main_id=most_frequent_main_id\n",
    ")\n",
    "stitched_ids = cur.execute(sql).fetch_pandas_all()\n",
    "\n",
    "# Preview first ten rows\n",
    "stitched_ids.head(10)"
   ]
  },
  {
   "cell_type": "code",
   "execution_count": 17,
   "id": "13115fd3-c06f-418b-b171-a4e7ceccf4aa",
   "metadata": {},
   "outputs": [
    {
     "name": "stdout",
     "output_type": "stream",
     "text": [
      "{'anonymous_id:563fc39a-9d0a-49c1-b669-4650522970a3': [{'user_id': 'b89902e2-e23d-45af-87f1-2664927ed77e'},\n",
      "                                                       {'phone': '521-710-4869'},\n",
      "                                                       {'email': 'hoytmacejkovic@those-mortise.com'}],\n",
      " 'anonymous_id:b5fe5115-84c5-493d-a91c-d25e55bfcdda': [{'user_id': 'b89902e2-e23d-45af-87f1-2664927ed77e'}],\n",
      " 'email:hoytmacejkovic@those-mortise.com': [{'user_id': 'b89902e2-e23d-45af-87f1-2664927ed77e'},\n",
      "                                            {'anonymous_id': '563fc39a-9d0a-49c1-b669-4650522970a3'},\n",
      "                                            {'phone': '521-710-4869'}],\n",
      " 'phone:521-710-4869': [{'user_id': 'b89902e2-e23d-45af-87f1-2664927ed77e'},\n",
      "                        {'anonymous_id': '563fc39a-9d0a-49c1-b669-4650522970a3'},\n",
      "                        {'email': 'hoytmacejkovic@those-mortise.com'}],\n",
      " 'user_id:b89902e2-e23d-45af-87f1-2664927ed77e': [{'anonymous_id': '563fc39a-9d0a-49c1-b669-4650522970a3'},\n",
      "                                                  {'anonymous_id': 'b5fe5115-84c5-493d-a91c-d25e55bfcdda'},\n",
      "                                                  {'email': 'hoytmacejkovic@those-mortise.com'},\n",
      "                                                  {'phone': '521-710-4869'}]}\n"
     ]
    }
   ],
   "source": [
    "# Build Python dictionary with ID lists\n",
    "stitched_ids_dict = {}\n",
    "for index, row in stitched_ids.iterrows():\n",
    "    stitched_ids_dict[f\"{row['ID_TYPE']}:{row['ID_VAL']}\"] = json.loads(row[\"ID_LIST\"])\n",
    "\n",
    "pprint.pprint(stitched_ids_dict)"
   ]
  },
  {
   "cell_type": "code",
   "execution_count": 18,
   "id": "09c5595a-32a1-4c55-aa9e-be0a7aab06ad",
   "metadata": {},
   "outputs": [],
   "source": [
    "# Close Snowflake cursor and connection\n",
    "# Keep at end of notebook\n",
    "cur.close()\n",
    "ctx.close()"
   ]
  }
 ],
 "metadata": {
  "kernelspec": {
   "display_name": "Python 3 (ipykernel)",
   "language": "python",
   "name": "python3"
  },
  "language_info": {
   "codemirror_mode": {
    "name": "ipython",
    "version": 3
   },
   "file_extension": ".py",
   "mimetype": "text/x-python",
   "name": "python",
   "nbconvert_exporter": "python",
   "pygments_lexer": "ipython3",
   "version": "3.11.8"
  }
 },
 "nbformat": 4,
 "nbformat_minor": 5
}
